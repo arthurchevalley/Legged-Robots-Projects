{
 "cells": [
  {
   "cell_type": "code",
   "execution_count": 1,
   "id": "5dc8589f",
   "metadata": {},
   "outputs": [],
   "source": [
    "import numpy as np\n",
    "from numpy import unravel_index\n",
    "\n",
    "with open('Tune_Pronk.npy', 'rb') as f:\n",
    "    a = np.load(f)\n"
   ]
  },
  {
   "cell_type": "code",
   "execution_count": 2,
   "id": "3f0915d1",
   "metadata": {},
   "outputs": [
    {
     "data": {
      "text/plain": [
       "1664"
      ]
     },
     "metadata": {},
     "output_type": "display_data"
    },
    {
     "data": {
      "text/plain": [
       "(1, 0, 0, 0, 1, 1, 0, 0, 0, 0, 0, 0)"
      ]
     },
     "metadata": {},
     "output_type": "display_data"
    },
    {
     "data": {
      "text/plain": [
       "93.1763357792519"
      ]
     },
     "metadata": {},
     "output_type": "display_data"
    },
    {
     "data": {
      "text/plain": [
       "0"
      ]
     },
     "execution_count": 2,
     "metadata": {},
     "output_type": "execute_result"
    }
   ],
   "source": [
    "maxindex=np.argmax(a)\n",
    "display(maxindex)\n",
    "max_index_dec=unravel_index(a.argmax(), a.shape)\n",
    "display(max_index_dec)\n",
    "display(a[max_index_dec])\n",
    "max_index_dec[2]"
   ]
  },
  {
   "cell_type": "code",
   "execution_count": 142,
   "id": "882ccf9b",
   "metadata": {},
   "outputs": [],
   "source": [
    "b=a.copy()"
   ]
  },
  {
   "cell_type": "code",
   "execution_count": 145,
   "id": "2fdb6b08",
   "metadata": {},
   "outputs": [
    {
     "data": {
      "text/plain": [
       "3"
      ]
     },
     "metadata": {},
     "output_type": "display_data"
    },
    {
     "data": {
      "text/plain": [
       "(0, 0, 0, 0, 1, 1, 0, 0, 0, 0)"
      ]
     },
     "metadata": {},
     "output_type": "display_data"
    },
    {
     "data": {
      "text/plain": [
       "-0.0"
      ]
     },
     "metadata": {},
     "output_type": "display_data"
    },
    {
     "data": {
      "text/plain": [
       "0"
      ]
     },
     "execution_count": 145,
     "metadata": {},
     "output_type": "execute_result"
    }
   ],
   "source": [
    "b[max_index_dec]=-1\n",
    "maxindex=np.argmax(b)\n",
    "display(maxindex)\n",
    "max_index_dec=unravel_index(b.argmax(), b.shape)\n",
    "display(max_index_dec)\n",
    "display(a[max_index_dec])\n",
    "max_index_dec[3]"
   ]
  },
  {
   "cell_type": "code",
   "execution_count": 4,
   "id": "f1d6c5de",
   "metadata": {},
   "outputs": [
    {
     "data": {
      "text/plain": [
       "2"
      ]
     },
     "execution_count": 4,
     "metadata": {},
     "output_type": "execute_result"
    }
   ],
   "source": [
    "c=[]\n",
    "c.append(1==1)\n",
    "c.append(1==0)\n",
    "c.append(1==1)\n",
    "c.append(1==0)\n",
    "sum(c)"
   ]
  },
  {
   "cell_type": "code",
   "execution_count": 10,
   "id": "fc218e14",
   "metadata": {},
   "outputs": [
    {
     "data": {
      "text/plain": [
       "False"
      ]
     },
     "execution_count": 10,
     "metadata": {},
     "output_type": "execute_result"
    }
   ],
   "source": [
    "4==4==4==1"
   ]
  }
 ],
 "metadata": {
  "kernelspec": {
   "display_name": "Python 3",
   "language": "python",
   "name": "python3"
  },
  "language_info": {
   "codemirror_mode": {
    "name": "ipython",
    "version": 3
   },
   "file_extension": ".py",
   "mimetype": "text/x-python",
   "name": "python",
   "nbconvert_exporter": "python",
   "pygments_lexer": "ipython3",
   "version": "3.8.8"
  }
 },
 "nbformat": 4,
 "nbformat_minor": 5
}
